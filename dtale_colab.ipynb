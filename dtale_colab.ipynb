{
  "nbformat": 4,
  "nbformat_minor": 0,
  "metadata": {
    "colab": {
      "provenance": []
    },
    "kernelspec": {
      "name": "python3",
      "display_name": "Python 3"
    },
    "language_info": {
      "name": "python"
    }
  },
  "cells": [
    {
      "cell_type": "code",
      "execution_count": null,
      "metadata": {
        "id": "J84LbwfC9B1N"
      },
      "outputs": [],
      "source": [
        "!pip install dtale eurostat"
      ]
    },
    {
      "cell_type": "code",
      "source": [
        "import dtale"
      ],
      "metadata": {
        "id": "RJQDJuHH9Dci"
      },
      "execution_count": null,
      "outputs": []
    },
    {
      "cell_type": "code",
      "source": [
        "import eurostat"
      ],
      "metadata": {
        "id": "JtHY7fNj9dzN"
      },
      "execution_count": null,
      "outputs": []
    },
    {
      "cell_type": "code",
      "source": [
        "cp = eurostat.get_data_df(\"EI_CPHI_M\")"
      ],
      "metadata": {
        "id": "96rwWk-O9e5_"
      },
      "execution_count": null,
      "outputs": []
    },
    {
      "cell_type": "code",
      "source": [
        "import dtale.app\n",
        "\n",
        "dtale.app.USE_COLAB = True\n",
        "dtale.show(cp)"
      ],
      "metadata": {
        "id": "BXAM7Gpa9r9i"
      },
      "execution_count": null,
      "outputs": []
    },
    {
      "cell_type": "code",
      "source": [],
      "metadata": {
        "id": "i3zcqnad9uxE"
      },
      "execution_count": null,
      "outputs": []
    }
  ]
}