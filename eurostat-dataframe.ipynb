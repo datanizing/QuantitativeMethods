{
 "cells": [
  {
   "cell_type": "markdown",
   "id": "b8684021",
   "metadata": {},
   "source": [
    "# Eurostat"
   ]
  },
  {
   "cell_type": "markdown",
   "id": "b6bd0fcc",
   "metadata": {},
   "source": [
    "## Install package"
   ]
  },
  {
   "cell_type": "code",
   "execution_count": null,
   "id": "006596e5",
   "metadata": {},
   "outputs": [],
   "source": [
    "pip install eurostat"
   ]
  },
  {
   "cell_type": "code",
   "execution_count": null,
   "id": "86da36d3",
   "metadata": {},
   "outputs": [],
   "source": [
    "import eurostat"
   ]
  },
  {
   "cell_type": "markdown",
   "id": "3d23f9d5",
   "metadata": {},
   "source": [
    "## get table of contents"
   ]
  },
  {
   "cell_type": "code",
   "execution_count": null,
   "id": "3a7749b6",
   "metadata": {},
   "outputs": [],
   "source": [
    "toc_df = eurostat.get_toc_df()"
   ]
  },
  {
   "cell_type": "code",
   "execution_count": null,
   "id": "21575875",
   "metadata": {},
   "outputs": [],
   "source": [
    "toc_df"
   ]
  },
  {
   "cell_type": "markdown",
   "id": "f1fc61e0",
   "metadata": {},
   "source": [
    "# Inflation"
   ]
  },
  {
   "cell_type": "markdown",
   "id": "aaace688",
   "metadata": {},
   "source": [
    "## look for inflation"
   ]
  },
  {
   "cell_type": "code",
   "execution_count": null,
   "id": "6f8b0f17",
   "metadata": {},
   "outputs": [],
   "source": [
    "eurostat.subset_toc_df(toc_df, 'inflation')"
   ]
  },
  {
   "cell_type": "markdown",
   "id": "d852df22",
   "metadata": {},
   "source": [
    "## download dataset"
   ]
  },
  {
   "cell_type": "code",
   "execution_count": null,
   "id": "8e55eabd",
   "metadata": {},
   "outputs": [],
   "source": [
    "inflation = eurostat.get_data_df(\"PRC_HICP_CTRB\")"
   ]
  },
  {
   "cell_type": "code",
   "execution_count": null,
   "id": "ab3b27f2",
   "metadata": {},
   "outputs": [],
   "source": [
    "inflation"
   ]
  },
  {
   "cell_type": "markdown",
   "id": "c280f103",
   "metadata": {},
   "source": [
    "## information"
   ]
  },
  {
   "cell_type": "code",
   "execution_count": null,
   "id": "7bd97b7f",
   "metadata": {},
   "outputs": [],
   "source": [
    "inflation.info()"
   ]
  },
  {
   "cell_type": "markdown",
   "id": "6459a0bc",
   "metadata": {},
   "source": [
    "## data types"
   ]
  },
  {
   "cell_type": "code",
   "execution_count": null,
   "id": "1f004c9d",
   "metadata": {},
   "outputs": [],
   "source": [
    "inflation.dtypes"
   ]
  },
  {
   "cell_type": "markdown",
   "id": "d74a89a7",
   "metadata": {},
   "source": [
    "## summary statistics"
   ]
  },
  {
   "cell_type": "code",
   "execution_count": null,
   "id": "b11e7295",
   "metadata": {},
   "outputs": [],
   "source": [
    "inflation.describe()"
   ]
  },
  {
   "cell_type": "markdown",
   "id": "a91838a4",
   "metadata": {},
   "source": [
    "## include categorical data"
   ]
  },
  {
   "cell_type": "code",
   "execution_count": null,
   "id": "14151a08",
   "metadata": {
    "scrolled": false
   },
   "outputs": [],
   "source": [
    "inflation.describe(include='all')"
   ]
  },
  {
   "cell_type": "code",
   "execution_count": null,
   "id": "509a5950",
   "metadata": {},
   "outputs": [],
   "source": [
    "# incomplete data\n",
    "inflation.isna()"
   ]
  },
  {
   "cell_type": "code",
   "execution_count": null,
   "id": "a69f1765",
   "metadata": {},
   "outputs": [],
   "source": [
    "inflation.isna().any()"
   ]
  },
  {
   "cell_type": "markdown",
   "id": "683f3d83",
   "metadata": {},
   "source": [
    "# Consumer prices"
   ]
  },
  {
   "cell_type": "code",
   "execution_count": null,
   "id": "04bb6256",
   "metadata": {},
   "outputs": [],
   "source": [
    "eurostat.subset_toc_df(toc_df, 'consumer prices')"
   ]
  },
  {
   "cell_type": "code",
   "execution_count": null,
   "id": "c234765b",
   "metadata": {},
   "outputs": [],
   "source": [
    "cp = eurostat.get_data_df(\"EI_CPHI_M\")"
   ]
  },
  {
   "cell_type": "code",
   "execution_count": null,
   "id": "f180d505",
   "metadata": {},
   "outputs": [],
   "source": [
    "cp"
   ]
  },
  {
   "cell_type": "code",
   "execution_count": null,
   "id": "a8c1d411",
   "metadata": {},
   "outputs": [],
   "source": [
    "cp.describe(include='all')"
   ]
  },
  {
   "cell_type": "markdown",
   "id": "9ae36728",
   "metadata": {},
   "source": [
    "## Basics of  `DataFrame`"
   ]
  },
  {
   "cell_type": "code",
   "execution_count": null,
   "id": "fdc14723",
   "metadata": {},
   "outputs": [],
   "source": [
    "cp.shape"
   ]
  },
  {
   "cell_type": "code",
   "execution_count": null,
   "id": "e87b4e3e",
   "metadata": {},
   "outputs": [],
   "source": [
    "cp.columns"
   ]
  },
  {
   "cell_type": "code",
   "execution_count": null,
   "id": "af034c7a",
   "metadata": {},
   "outputs": [],
   "source": [
    "cp.index"
   ]
  },
  {
   "cell_type": "code",
   "execution_count": null,
   "id": "5e5660c3",
   "metadata": {},
   "outputs": [],
   "source": [
    "cp[\"geo\\\\TIME_PERIOD\"].unique()"
   ]
  },
  {
   "cell_type": "code",
   "execution_count": null,
   "id": "1de47ef5",
   "metadata": {},
   "outputs": [],
   "source": [
    "cp[\"geo\\\\TIME_PERIOD\"].value_counts()"
   ]
  },
  {
   "cell_type": "markdown",
   "id": "34899b6b",
   "metadata": {},
   "source": [
    "## Selecting columns"
   ]
  },
  {
   "cell_type": "code",
   "execution_count": null,
   "id": "ff5ad5d3",
   "metadata": {
    "scrolled": true
   },
   "outputs": [],
   "source": [
    "# one column => Series\n",
    "cp[\"geo\\\\TIME_PERIOD\"]"
   ]
  },
  {
   "cell_type": "code",
   "execution_count": null,
   "id": "f85b51b1",
   "metadata": {},
   "outputs": [],
   "source": [
    "# many columns => DataFrame\n",
    "cp[['freq', 'unit', 's_adj', 'indic', 'geo\\\\TIME_PERIOD', '2022-10']]"
   ]
  },
  {
   "cell_type": "markdown",
   "id": "b1ae70c8",
   "metadata": {},
   "source": [
    "## Selecting rows"
   ]
  },
  {
   "cell_type": "markdown",
   "id": "ce57135d",
   "metadata": {},
   "source": [
    "### SQL way"
   ]
  },
  {
   "cell_type": "code",
   "execution_count": null,
   "id": "d51c656d",
   "metadata": {},
   "outputs": [],
   "source": [
    "cp.query('indic==\\'CP-HI00\\'')"
   ]
  },
  {
   "cell_type": "code",
   "execution_count": null,
   "id": "9125a184",
   "metadata": {},
   "outputs": [],
   "source": [
    "cp.query(\"(indic=='CP-HI00') & (unit == 'HICP2015')\")"
   ]
  },
  {
   "cell_type": "code",
   "execution_count": null,
   "id": "66fef01f",
   "metadata": {},
   "outputs": [],
   "source": [
    "cp.query(\"(indic=='CP-HI00') & (unit == 'HICP2015') & ('geo\\\\TIME_PERIOD' == 'DE')\")"
   ]
  },
  {
   "cell_type": "markdown",
   "id": "4d1866db",
   "metadata": {},
   "source": [
    "### Python way"
   ]
  },
  {
   "cell_type": "code",
   "execution_count": null,
   "id": "3f9c490a",
   "metadata": {},
   "outputs": [],
   "source": [
    "cp[\"indic\"] == \"CP-HI00\""
   ]
  },
  {
   "cell_type": "code",
   "execution_count": null,
   "id": "0ddc9d68",
   "metadata": {},
   "outputs": [],
   "source": [
    "cp[cp[\"indic\"] == \"CP-HI00\"]"
   ]
  },
  {
   "cell_type": "markdown",
   "id": "cc41b95a",
   "metadata": {},
   "source": [
    "## Combining these two methods"
   ]
  },
  {
   "cell_type": "code",
   "execution_count": null,
   "id": "b611b1c8",
   "metadata": {},
   "outputs": [],
   "source": [
    "cp[(cp[\"indic\"] == \"CP-HI00\") & (cp[\"geo\\\\TIME_PERIOD\"] == \"DE\")]"
   ]
  },
  {
   "cell_type": "code",
   "execution_count": null,
   "id": "00746bc5",
   "metadata": {},
   "outputs": [],
   "source": [
    "eurostat.get_dic('EI_CPHI_M', 'unit')"
   ]
  },
  {
   "cell_type": "code",
   "execution_count": null,
   "id": "0b08fa3b",
   "metadata": {},
   "outputs": [],
   "source": [
    "cp[(cp[\"indic\"] == \"CP-HI00\") & (cp[\"unit\"] == \"HICP2015\") & (cp[\"geo\\\\TIME_PERIOD\"] == \"DE\")]"
   ]
  },
  {
   "cell_type": "code",
   "execution_count": null,
   "id": "aff23357",
   "metadata": {
    "scrolled": true
   },
   "outputs": [],
   "source": [
    "last_5_years = [f'{y}-{m:02}' \n",
    "                  for y in range(2017, 2023) \n",
    "                    for m in range(1, 13)][0:70]\n",
    "print(last_5_years)"
   ]
  },
  {
   "cell_type": "code",
   "execution_count": null,
   "id": "d02eaf76",
   "metadata": {},
   "outputs": [],
   "source": [
    "l5 = cp[(cp[\"indic\"] == \"CP-HI00\") & \n",
    "        (cp[\"unit\"] == \"HICP2015\") & \n",
    "        (cp[\"geo\\TIME_PERIOD\"] == \"DE\")][last_5_years]\n",
    "l5"
   ]
  },
  {
   "cell_type": "code",
   "execution_count": null,
   "id": "c3be8513",
   "metadata": {},
   "outputs": [],
   "source": [
    "l5.plot()"
   ]
  },
  {
   "cell_type": "code",
   "execution_count": null,
   "id": "f0f41174",
   "metadata": {},
   "outputs": [],
   "source": [
    "l5.transpose().plot()"
   ]
  },
  {
   "cell_type": "markdown",
   "id": "3bff221c",
   "metadata": {},
   "source": [
    "## Importing and exporting"
   ]
  },
  {
   "cell_type": "code",
   "execution_count": null,
   "id": "b70d63bd",
   "metadata": {},
   "outputs": [],
   "source": [
    "import pandas as pd\n",
    "pc = pd.read_excel(\"Photo copier data.xlsx\")\n",
    "pc"
   ]
  },
  {
   "cell_type": "code",
   "execution_count": null,
   "id": "fdb03136",
   "metadata": {},
   "outputs": [],
   "source": [
    "pc.to_csv(\"Photo copier data.csv\")"
   ]
  },
  {
   "cell_type": "code",
   "execution_count": null,
   "id": "80796b2c",
   "metadata": {},
   "outputs": [],
   "source": [
    "pd.read_csv(\"Photo copier data.csv\", index_col=0)"
   ]
  },
  {
   "cell_type": "code",
   "execution_count": null,
   "id": "afd37d22",
   "metadata": {},
   "outputs": [],
   "source": [
    "cp.to_excel(\"cp.xlsx\")"
   ]
  },
  {
   "cell_type": "code",
   "execution_count": null,
   "id": "60a2c9f7",
   "metadata": {},
   "outputs": [],
   "source": [
    "cp.to_clipboard()"
   ]
  },
  {
   "cell_type": "markdown",
   "id": "0f6ae036",
   "metadata": {},
   "source": [
    "## Browsing"
   ]
  },
  {
   "cell_type": "code",
   "execution_count": null,
   "id": "86a9ddca",
   "metadata": {},
   "outputs": [],
   "source": [
    "pip install dtale"
   ]
  },
  {
   "cell_type": "code",
   "execution_count": null,
   "id": "e8056864",
   "metadata": {},
   "outputs": [],
   "source": [
    "cp"
   ]
  },
  {
   "cell_type": "code",
   "execution_count": null,
   "id": "2a49088d",
   "metadata": {},
   "outputs": [],
   "source": [
    "import dtale"
   ]
  },
  {
   "cell_type": "markdown",
   "id": "fae2eaaa",
   "metadata": {},
   "source": [
    "On Colab use:\n",
    "```python\n",
    "import dtale.app\n",
    "\n",
    "dtale.app.USE_COLAB = True\n",
    "```"
   ]
  },
  {
   "cell_type": "code",
   "execution_count": null,
   "id": "19cc943e",
   "metadata": {},
   "outputs": [],
   "source": [
    "dtale.show(cp)"
   ]
  },
  {
   "cell_type": "code",
   "execution_count": null,
   "id": "66eb0d9c",
   "metadata": {},
   "outputs": [],
   "source": []
  }
 ],
 "metadata": {
  "kernelspec": {
   "display_name": "Python 3 (ipykernel)",
   "language": "python",
   "name": "python3"
  },
  "language_info": {
   "codemirror_mode": {
    "name": "ipython",
    "version": 3
   },
   "file_extension": ".py",
   "mimetype": "text/x-python",
   "name": "python",
   "nbconvert_exporter": "python",
   "pygments_lexer": "ipython3",
   "version": "3.9.12"
  },
  "toc": {
   "base_numbering": 1,
   "nav_menu": {},
   "number_sections": true,
   "sideBar": true,
   "skip_h1_title": false,
   "title_cell": "Table of Contents",
   "title_sidebar": "Contents",
   "toc_cell": false,
   "toc_position": {},
   "toc_section_display": true,
   "toc_window_display": false
  }
 },
 "nbformat": 4,
 "nbformat_minor": 5
}
